{
 "cells": [
  {
   "cell_type": "code",
   "execution_count": 1,
   "metadata": {},
   "outputs": [
    {
     "name": "stderr",
     "output_type": "stream",
     "text": [
      "c:\\Users\\deepa\\AppData\\Local\\Programs\\Python\\Python312\\Lib\\site-packages\\tqdm\\auto.py:21: TqdmWarning: IProgress not found. Please update jupyter and ipywidgets. See https://ipywidgets.readthedocs.io/en/stable/user_install.html\n",
      "  from .autonotebook import tqdm as notebook_tqdm\n",
      "Loading pipeline components...: 100%|██████████| 7/7 [00:12<00:00,  1.73s/it]\n"
     ]
    }
   ],
   "source": [
    "from diffusers import StableDiffusionPipeline\n",
    "import torch\n",
    "\n",
    "model_id = \"CompVis/stable-diffusion-v1-4\"\n",
    "device = \"cuda\" if torch.cuda.is_available() else \"cpu\"\n",
    "pipe = StableDiffusionPipeline.from_pretrained(model_id, torch_dtype=torch.float16 if device == \"cuda\" else torch.float32)\n",
    "pipe = pipe.to(device)\n",
    "\n"
   ]
  },
  {
   "cell_type": "code",
   "execution_count": 7,
   "metadata": {},
   "outputs": [
    {
     "name": "stderr",
     "output_type": "stream",
     "text": [
      "100%|██████████| 50/50 [03:14<00:00,  3.89s/it]\n"
     ]
    },
    {
     "name": "stdout",
     "output_type": "stream",
     "text": [
      "Image saved as 'reference.jpg'\n"
     ]
    }
   ],
   "source": [
    "prompt = \"Young person looking happy.\"\n",
    "\n",
    "with torch.autocast(\"cuda\" if device == \"cuda\" else \"cpu\"):\n",
    "    image = pipe(prompt).images[0]\n",
    "\n",
    "image.save(\"reference.jpg\")\n",
    "\n",
    "print(\"Image saved as 'reference.jpg'\")\n"
   ]
  },
  {
   "cell_type": "code",
   "execution_count": 8,
   "metadata": {},
   "outputs": [
    {
     "name": "stdout",
     "output_type": "stream",
     "text": [
      "SSIM between generated and reference image: 0.2343\n"
     ]
    }
   ],
   "source": [
    "from PIL import Image\n",
    "from torchvision import transforms\n",
    "import torch\n",
    "from skimage.metrics import structural_similarity as ssim\n",
    "import numpy as np\n",
    "\n",
    "device = torch.device(\"cuda\" if torch.cuda.is_available() else \"cpu\")\n",
    "\n",
    "transform = transforms.Compose([\n",
    "    transforms.Resize((256, 256)), \n",
    "    transforms.ToTensor(),  \n",
    "])\n",
    "\n",
    "def evaluate_image(generated_image_path, reference_image_path):\n",
    "    generated_image = Image.open(generated_image_path).convert(\"RGB\")\n",
    "    reference_image = Image.open(reference_image_path).convert(\"RGB\")\n",
    "    \n",
    "    generated_image = transform(generated_image).unsqueeze(0).to(device)\n",
    "    reference_image = transform(reference_image).unsqueeze(0).to(device)\n",
    "    \n",
    "    generated_image = generated_image.squeeze().permute(1, 2, 0).cpu().numpy()\n",
    "    reference_image = reference_image.squeeze().permute(1, 2, 0).cpu().numpy()\n",
    "    \n",
    "    ssim_value = ssim(generated_image, reference_image, data_range=1.0, channel_axis=2)\n",
    "    return ssim_value\n",
    "\n",
    "ssim_value = evaluate_image('generated_image.png', 'reference.jpg')\n",
    "print(f'SSIM between generated and reference image: {ssim_value:.4f}')\n"
   ]
  },
  {
   "cell_type": "code",
   "execution_count": null,
   "metadata": {},
   "outputs": [],
   "source": []
  }
 ],
 "metadata": {
  "kernelspec": {
   "display_name": "Python 3",
   "language": "python",
   "name": "python3"
  },
  "language_info": {
   "codemirror_mode": {
    "name": "ipython",
    "version": 3
   },
   "file_extension": ".py",
   "mimetype": "text/x-python",
   "name": "python",
   "nbconvert_exporter": "python",
   "pygments_lexer": "ipython3",
   "version": "3.12.3"
  }
 },
 "nbformat": 4,
 "nbformat_minor": 2
}
